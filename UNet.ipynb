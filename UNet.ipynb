{
 "cells": [
  {
   "cell_type": "code",
   "execution_count": 45,
   "metadata": {},
   "outputs": [],
   "source": [
    "#imporintng the libraries\n",
    "import os\n",
    "import cv2\n",
    "import matplotlib.pyplot as plt\n",
    "import numpy as np\n",
    "import random\n",
    "from PIL import Image\n"
   ]
  },
  {
   "cell_type": "code",
   "execution_count": 60,
   "metadata": {},
   "outputs": [],
   "source": [
    "DATA_DIR = \"/Users/sathvikchowdaryveerapaneni/Desktop/CV/Deep_Learning_Project/Lane-Segmmentation-using-Deep-Learning/Data\"\n",
    "\n",
    "x_train_dir = os.path.join(DATA_DIR, 'train')\n",
    "y_train_dir = os.path.join(DATA_DIR, 'train_label')\n",
    "\n",
    "x_valid_dir = os.path.join(DATA_DIR, 'val')\n",
    "y_valid_dir = os.path.join(DATA_DIR, 'val_label')"
   ]
  },
  {
   "cell_type": "code",
   "execution_count": 61,
   "metadata": {},
   "outputs": [],
   "source": [
    "# Randomly selecting an image from both the training and validation set to check the size and shape of it\n",
    "\n",
    "#Training Image\n",
    "all_training_images=os.listdir(x_train_dir)\n",
    "random_training_image=random.choice([image for image in all_training_images if image.endswith(\".png\")])\n",
    "\n",
    "#Training Label\n",
    "all_training_labels=os.listdir(y_train_dir)\n",
    "random_testing_image=random.choice([image for image in all_training_labels if image.endswith(\".png\")])"
   ]
  },
  {
   "cell_type": "code",
   "execution_count": 62,
   "metadata": {},
   "outputs": [
    {
     "name": "stdout",
     "output_type": "stream",
     "text": [
      "Training Image\n",
      "Image Name:Town04_Clear_Noon_09_09_2020_14_57_22_frame_1573.png\n",
      "Image Size:(256, 256)\n",
      "Training Image\n",
      "Image Name:Town04_Clear_Noon_09_09_2020_14_57_22_frame_1573.png\n"
     ]
    },
    {
     "ename": "FileNotFoundError",
     "evalue": "[Errno 2] No such file or directory: '/Users/sathvikchowdaryveerapaneni/Desktop/CV/Deep_Learning_Project/Lane-Segmmentation-using-Deep-Learning/Data/train_label/Town04_Clear_Noon_09_09_2020_14_57_22_frame_1573.png'",
     "output_type": "error",
     "traceback": [
      "\u001b[0;31m---------------------------------------------------------------------------\u001b[0m",
      "\u001b[0;31mFileNotFoundError\u001b[0m                         Traceback (most recent call last)",
      "Cell \u001b[0;32mIn[62], line 10\u001b[0m\n\u001b[1;32m      8\u001b[0m \u001b[39mprint\u001b[39m(\u001b[39m\"\u001b[39m\u001b[39mTraining Image\u001b[39m\u001b[39m\"\u001b[39m)\n\u001b[1;32m      9\u001b[0m \u001b[39mprint\u001b[39m(\u001b[39m\"\u001b[39m\u001b[39mImage Name:\u001b[39m\u001b[39m{}\u001b[39;00m\u001b[39m\"\u001b[39m\u001b[39m.\u001b[39mformat(random_training_image))\n\u001b[0;32m---> 10\u001b[0m temp_img\u001b[39m=\u001b[39mImage\u001b[39m.\u001b[39;49mopen(y_train_dir\u001b[39m+\u001b[39;49m\u001b[39m'\u001b[39;49m\u001b[39m/\u001b[39;49m\u001b[39m'\u001b[39;49m\u001b[39m+\u001b[39;49m\u001b[39mstr\u001b[39;49m(random_training_image))\n\u001b[1;32m     11\u001b[0m \u001b[39mprint\u001b[39m(\u001b[39m\"\u001b[39m\u001b[39mImage Size:\u001b[39m\u001b[39m{}\u001b[39;00m\u001b[39m\"\u001b[39m\u001b[39m.\u001b[39mformat(temp_img\u001b[39m.\u001b[39msize))\n",
      "File \u001b[0;32m~/miniconda3/envs/tensorflow/lib/python3.10/site-packages/PIL/Image.py:3227\u001b[0m, in \u001b[0;36mopen\u001b[0;34m(fp, mode, formats)\u001b[0m\n\u001b[1;32m   3224\u001b[0m     filename \u001b[39m=\u001b[39m fp\n\u001b[1;32m   3226\u001b[0m \u001b[39mif\u001b[39;00m filename:\n\u001b[0;32m-> 3227\u001b[0m     fp \u001b[39m=\u001b[39m builtins\u001b[39m.\u001b[39;49mopen(filename, \u001b[39m\"\u001b[39;49m\u001b[39mrb\u001b[39;49m\u001b[39m\"\u001b[39;49m)\n\u001b[1;32m   3228\u001b[0m     exclusive_fp \u001b[39m=\u001b[39m \u001b[39mTrue\u001b[39;00m\n\u001b[1;32m   3230\u001b[0m \u001b[39mtry\u001b[39;00m:\n",
      "\u001b[0;31mFileNotFoundError\u001b[0m: [Errno 2] No such file or directory: '/Users/sathvikchowdaryveerapaneni/Desktop/CV/Deep_Learning_Project/Lane-Segmmentation-using-Deep-Learning/Data/train_label/Town04_Clear_Noon_09_09_2020_14_57_22_frame_1573.png'"
     ]
    }
   ],
   "source": [
    "# Checking the size of the image\n",
    "print(\"Training Image\")\n",
    "print(\"Image Name:{}\".format(random_training_image))\n",
    "temp_img=Image.open(x_train_dir+'/'+str(random_training_image))\n",
    "print(\"Image Size:{}\".format(temp_img.size))\n",
    "\n",
    "\n",
    "print(\"Training Image\")\n",
    "print(\"Image Name:{}\".format(random_testing_image))\n",
    "temp_img=Image.open(y_train_dir+'/'+str(random_testing_image))\n",
    "print(\"Image Size:{}\".format(temp_img.size))"
   ]
  },
  {
   "cell_type": "code",
   "execution_count": 49,
   "metadata": {},
   "outputs": [
    {
     "name": "stdout",
     "output_type": "stream",
     "text": [
      "Image file: Town04_Clear_Noon_09_09_2020_14_57_22_frame_2752.png\n",
      "Loaded image: None\n",
      "Image type: <class 'NoneType'>\n",
      "Failed to load the image: Town04_Clear_Noon_09_09_2020_14_57_22_frame_2752.png\n"
     ]
    }
   ],
   "source": [
    "print(\"Image file:\", random_training_image)\n",
    "print(\"Loaded image:\", temp_img)\n",
    "print(\"Image type:\", type(temp_img))\n",
    "\n",
    "if temp_img is not None:\n",
    "    # Get the shape of the image\n",
    "    h, w, c = temp_img.shape\n",
    "    print(\"Image shape:\", (h, w, c))\n",
    "else:\n",
    "    print(\"Failed to load the image:\", random_training_image)"
   ]
  },
  {
   "cell_type": "code",
   "execution_count": null,
   "metadata": {},
   "outputs": [],
   "source": []
  }
 ],
 "metadata": {
  "kernelspec": {
   "display_name": "Python 3.10 (tensorflow)",
   "language": "python",
   "name": "tensorflow"
  },
  "language_info": {
   "codemirror_mode": {
    "name": "ipython",
    "version": 3
   },
   "file_extension": ".py",
   "mimetype": "text/x-python",
   "name": "python",
   "nbconvert_exporter": "python",
   "pygments_lexer": "ipython3",
   "version": "3.10.9"
  },
  "orig_nbformat": 4
 },
 "nbformat": 4,
 "nbformat_minor": 2
}
