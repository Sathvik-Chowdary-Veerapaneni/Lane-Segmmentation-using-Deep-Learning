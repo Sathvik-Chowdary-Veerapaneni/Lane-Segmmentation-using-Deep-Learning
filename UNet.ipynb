{
 "cells": [
  {
   "cell_type": "code",
   "execution_count": 110,
   "metadata": {},
   "outputs": [],
   "source": [
    "#imporintng the libraries\n",
    "import os\n",
    "import cv2\n",
    "import matplotlib.pyplot as plt\n",
    "import numpy as np\n",
    "import random\n",
    "from PIL import Image\n"
   ]
  },
  {
   "cell_type": "code",
   "execution_count": 111,
   "metadata": {},
   "outputs": [],
   "source": [
    "#Defining the paths\n",
    "\n",
    "DATA_DIR = \"/Users/sathvikchowdaryveerapaneni/Desktop/CV/Deep_Learning_Project/Lane-Segmmentation-using-Deep-Learning/Data\"\n",
    "\n",
    "x_train_dir = os.path.join(DATA_DIR, 'train')\n",
    "y_train_dir = os.path.join(DATA_DIR, 'train_label')\n",
    "\n",
    "x_valid_dir = os.path.join(DATA_DIR, 'val')\n",
    "y_valid_dir = os.path.join(DATA_DIR, 'val_label')"
   ]
  },
  {
   "cell_type": "code",
   "execution_count": 112,
   "metadata": {},
   "outputs": [],
   "source": [
    "# Randomly selecting an image from both the training and validation set to check the size and shape of it\n",
    "\n",
    "#Training Image\n",
    "all_training_images=os.listdir(x_train_dir)\n",
    "random_training_image=random.choice([image for image in all_training_images if image.endswith(\".png\")])\n",
    "\n",
    "#Training Label\n",
    "all_training_labels=os.listdir(y_train_dir)\n",
    "random_testing_image=random.choice([image for image in all_training_labels if image.endswith(\".png\")])"
   ]
  },
  {
   "cell_type": "code",
   "execution_count": 113,
   "metadata": {},
   "outputs": [
    {
     "name": "stdout",
     "output_type": "stream",
     "text": [
      "Training Image\n",
      "Image Name:Town04_Clear_Noon_09_09_2020_14_57_22_frame_1119.png\n",
      "Image Size:(256, 256)\n",
      "\n",
      "\n",
      "Training Image\n",
      "Image Name:Town04_Clear_Noon_09_09_2020_14_57_22_frame_2074_label.png\n",
      "Image Size:(256, 256)\n"
     ]
    }
   ],
   "source": [
    "# Checking the size of the image\n",
    "print(\"Training Image\")\n",
    "print(\"Image Name:{}\".format(random_training_image))\n",
    "temp_img=Image.open(x_train_dir+'/'+str(random_training_image))\n",
    "print(\"Image Size:{}\".format(temp_img.size))\n",
    "\n",
    "print(\"\\n\")\n",
    "print(\"Training Image\")\n",
    "print(\"Image Name:{}\".format(random_testing_image))\n",
    "temp_img=Image.open(y_train_dir+'/'+str(random_testing_image))\n",
    "print(\"Image Size:{}\".format(temp_img.size))"
   ]
  },
  {
   "cell_type": "code",
   "execution_count": 114,
   "metadata": {},
   "outputs": [],
   "source": [
    "# Getting corresponding image label from label data\n",
    "def image_from_label(label_img):\n",
    "    return str(label_img).replace(\".png\", \"_label.png\").replace(\"train\", \"train_label\").replace(\"val/\", \"val_label/\")"
   ]
  },
  {
   "cell_type": "code",
   "execution_count": 115,
   "metadata": {},
   "outputs": [
    {
     "data": {
      "text/plain": [
       "<matplotlib.image.AxesImage at 0x167d11b10>"
      ]
     },
     "execution_count": 115,
     "metadata": {},
     "output_type": "execute_result"
    },
    {
     "data": {
      "image/png": "[encoded data removed]",
      "text/plain": [
       "<Figure size 640x480 with 1 Axes>"
      ]
     },
     "metadata": {},
     "output_type": "display_data"
    }
   ],
   "source": [
    "img = plt.imread(x_train_dir+'/'+str(random_training_image))\n",
    "plt.imshow(img)"
   ]
  },
  {
   "cell_type": "code",
   "execution_count": null,
   "metadata": {},
   "outputs": [],
   "source": []
  }
 ],
 "metadata": {
  "kernelspec": {
   "display_name": "Python 3.10 (tensorflow)",
   "language": "python",
   "name": "tensorflow"
  },
  "language_info": {
   "codemirror_mode": {
    "name": "ipython",
    "version": 3
   },
   "file_extension": ".py",
   "mimetype": "text/x-python",
   "name": "python",
   "nbconvert_exporter": "python",
   "pygments_lexer": "ipython3",
   "version": "3.10.9"
  },
  "orig_nbformat": 4
 },
 "nbformat": 4,
 "nbformat_minor": 2
}
